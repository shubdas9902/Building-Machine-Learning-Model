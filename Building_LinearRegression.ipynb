{
  "nbformat": 4,
  "nbformat_minor": 0,
  "metadata": {
    "colab": {
      "provenance": [],
      "authorship_tag": "ABX9TyN8z5AnkUYA2B9tB3kYKh01",
      "include_colab_link": true
    },
    "kernelspec": {
      "name": "python3",
      "display_name": "Python 3"
    },
    "language_info": {
      "name": "python"
    }
  },
  "cells": [
    {
      "cell_type": "markdown",
      "metadata": {
        "id": "view-in-github",
        "colab_type": "text"
      },
      "source": [
        "<a href=\"https://colab.research.google.com/github/shubdas9902/Building-Machine-Learning-Model/blob/main/Building_LinearRegression.ipynb\" target=\"_parent\"><img src=\"https://colab.research.google.com/assets/colab-badge.svg\" alt=\"Open In Colab\"/></a>"
      ]
    },
    {
      "cell_type": "markdown",
      "source": [
        "Linear Regression\n",
        "Y=wX+b\n",
        "Y--> Dependent Variable\n",
        "X--> Independent Variable\n",
        "w--> weight\n",
        "b--> bias\n",
        "\n",
        "Gradient Descent\n",
        "Used for minimizing the loss function\n",
        "w=w-a*dw\n",
        "b=b-a*db\n",
        "\n",
        "Learning Rate\n",
        "Learning rate is a tuning parameter that determines the step size"
      ],
      "metadata": {
        "id": "PDVeobksSgmI"
      }
    },
    {
      "cell_type": "code",
      "execution_count": 10,
      "metadata": {
        "id": "cm-GeJkQR9-t"
      },
      "outputs": [],
      "source": [
        "#importing numpy library\n",
        "import numpy as np\n"
      ]
    },
    {
      "cell_type": "code",
      "source": [
        "class Linear_Regression():\n",
        "  def __init__(self,learning_rate, no_of_iterations):\n",
        "    self.learning_rate=learning_rate\n",
        "    self.no_of_iterations=no_of_iterations\n",
        "\n",
        "  def fit(self,X,Y):\n",
        "    #number of trainings examples and no. of features\n",
        "    self.m,self.n=X.shape\n",
        "    #initializing weight and bias to zero\n",
        "    self.w=np.zeros(self.n)\n",
        "    self.b=0\n",
        "    self.X=X\n",
        "    self.Y=Y\n",
        "    #gradient descent\n",
        "    for i in range(self.no_of_iterations):\n",
        "      self.update_weights()\n",
        "\n",
        "  def update_weights(self):\n",
        "    Y_prediction=self.predict(self.X)\n",
        "\n",
        "    #calculating the gradient descent\n",
        "    dw=(1/self.m)*np.dot(self.X.T,(Y_prediction-self.Y))\n",
        "    db=(1/self.m)*np.sum(Y_prediction-self.Y)\n",
        "\n",
        "    #updating the weight and bias\n",
        "    self.w=self.w-self.learning_rate*dw\n",
        "    self.b=self.b-self.learning_rate*db\n",
        "\n",
        "\n",
        "  def predict(self,X):\n",
        "    return np.dot(X,self.w)+self.b\n",
        "    pass"
      ],
      "metadata": {
        "id": "Z9hpeENhUlT8"
      },
      "execution_count": 11,
      "outputs": []
    },
    {
      "cell_type": "markdown",
      "source": [
        "importing dataset\n"
      ],
      "metadata": {
        "id": "mxetLU8JVNTJ"
      }
    },
    {
      "cell_type": "code",
      "source": [
        "import pandas as pd\n",
        "dataset=pd.read_csv('/content/salary_data.csv')\n",
        "X=dataset.iloc[:,:-1].values\n",
        "Y=dataset.iloc[:,-1].values"
      ],
      "metadata": {
        "id": "DFBDEBaKVR0R"
      },
      "execution_count": 3,
      "outputs": []
    },
    {
      "cell_type": "code",
      "source": [
        "print(X,Y)"
      ],
      "metadata": {
        "colab": {
          "base_uri": "https://localhost:8080/"
        },
        "id": "W6DN1vPNVsL3",
        "outputId": "ae979c2d-fbdc-405f-8710-4ff07d1f69ab"
      },
      "execution_count": 4,
      "outputs": [
        {
          "output_type": "stream",
          "name": "stdout",
          "text": [
            "[[ 1.1]\n",
            " [ 1.3]\n",
            " [ 1.5]\n",
            " [ 2. ]\n",
            " [ 2.2]\n",
            " [ 2.9]\n",
            " [ 3. ]\n",
            " [ 3.2]\n",
            " [ 3.2]\n",
            " [ 3.7]\n",
            " [ 3.9]\n",
            " [ 4. ]\n",
            " [ 4. ]\n",
            " [ 4.1]\n",
            " [ 4.5]\n",
            " [ 4.9]\n",
            " [ 5.1]\n",
            " [ 5.3]\n",
            " [ 5.9]\n",
            " [ 6. ]\n",
            " [ 6.8]\n",
            " [ 7.1]\n",
            " [ 7.9]\n",
            " [ 8.2]\n",
            " [ 8.7]\n",
            " [ 9. ]\n",
            " [ 9.5]\n",
            " [ 9.6]\n",
            " [10.3]\n",
            " [10.5]] [ 39343  46205  37731  43525  39891  56642  60150  54445  64445  57189\n",
            "  63218  55794  56957  57081  61111  67938  66029  83088  81363  93940\n",
            "  91738  98273 101302 113812 109431 105582 116969 112635 122391 121872]\n"
          ]
        }
      ]
    },
    {
      "cell_type": "code",
      "source": [
        "from sklearn.model_selection import train_test_split\n",
        "import matplotlib.pyplot as plt"
      ],
      "metadata": {
        "id": "XzEXMiiLV3Jb"
      },
      "execution_count": 5,
      "outputs": []
    },
    {
      "cell_type": "markdown",
      "source": [
        "Spliting the dataset in train and text data"
      ],
      "metadata": {
        "id": "J4n1fSrEWriC"
      }
    },
    {
      "cell_type": "code",
      "source": [
        "x_train,x_test,y_train,y_test=train_test_split(X,Y,test_size=0.33,random_state=2)"
      ],
      "metadata": {
        "id": "VKsLewdaWT8T"
      },
      "execution_count": 6,
      "outputs": []
    },
    {
      "cell_type": "markdown",
      "source": [
        "Training the Linear Regression model"
      ],
      "metadata": {
        "id": "wvMxzdrEXBVF"
      }
    },
    {
      "cell_type": "code",
      "source": [
        "model=Linear_Regression(learning_rate=0.02,no_of_iterations=1000)\n",
        "model.fit(x_train,y_train)"
      ],
      "metadata": {
        "id": "TJu0yeIhXHDQ"
      },
      "execution_count": 12,
      "outputs": []
    },
    {
      "cell_type": "markdown",
      "source": [
        "data Prediction"
      ],
      "metadata": {
        "id": "vtlBaypwYRR7"
      }
    },
    {
      "cell_type": "code",
      "source": [
        "test_data_prediction=model.predict(x_test)"
      ],
      "metadata": {
        "id": "p2DzzgyvYUD2"
      },
      "execution_count": 13,
      "outputs": []
    },
    {
      "cell_type": "markdown",
      "source": [
        "Visualizing the predicted data"
      ],
      "metadata": {
        "id": "IVNttn-nYl_e"
      }
    },
    {
      "cell_type": "code",
      "source": [
        "plt.scatter(x_test,y_test,color='red')\n",
        "plt.plot(x_test,test_data_prediction,color='blue')\n",
        "plt.title('Salary vs Experience(Test set)')\n",
        "plt.xlabel('Years of Experience')\n",
        "plt.ylabel('Salary')\n",
        "plt.show()\n"
      ],
      "metadata": {
        "colab": {
          "base_uri": "https://localhost:8080/",
          "height": 472
        },
        "id": "uOMEgZPFYt0L",
        "outputId": "b3271d72-6362-4b6e-e7e3-add126d88056"
      },
      "execution_count": 14,
      "outputs": [
        {
          "output_type": "display_data",
          "data": {
            "text/plain": [
              "<Figure size 640x480 with 1 Axes>"
            ],
            "image/png": "[encoded data removed]"
          },
          "metadata": {}
        }
      ]
    }
  ]
}